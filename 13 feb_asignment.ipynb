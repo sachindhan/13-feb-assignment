{
 "cells": [
  {
   "cell_type": "raw",
   "id": "fcf39f76-750b-482e-831e-ce3fdaa4b46e",
   "metadata": {},
   "source": [
    "Q1. Explain why we have to use the Exception class while creating a Custom Exception ?\n",
    "\n",
    "Built-in exceptions offer information about Python-related problems, and custom exceptions will add information about project-related problems. That way, you can design your code (and traceback, if an exception is raised) in a way that combines Python code with the language of the project.\n"
   ]
  },
  {
   "cell_type": "raw",
   "id": "1473b22c-725a-4567-9ca4-e079ba22bc6d",
   "metadata": {},
   "source": [
    "Q2. Write a python program to print Python Exception Hierarchy?\n",
    "ans 2 . \n",
    "         \n",
    "         try :\n",
    "             a= 10/0\n",
    "             \n",
    "         except Exception as e :\n",
    "             print(e)\n",
    "             \n",
    "         \n",
    "         try : \n",
    "             a= 10/0\n",
    "                \n",
    "        except ZeroDivisionError as e :\n",
    "            print(e)\n",
    "            \n",
    "            \n",
    "            \n",
    "            \n",
    "        try :\n",
    "            int(\"sach\")\n",
    "        except (ValueError , TypeError) as e :\n",
    "            print(e)\n",
    "            \n",
    "            \n",
    "            \n",
    "            \n",
    "        try :\n",
    "            import sach \n",
    "        except ImportError as e :\n",
    "            print(e)\n",
    "            \n",
    "            \n",
    "        try :\n",
    "            d = {\"key\" : \"sach \" , 1 : [ 1 ,2,3,4]}\n",
    "            print(\"key2\")\n",
    "        except KeyError as e :\n",
    "            print(e)\n",
    "            \n",
    "        try :\n",
    "            d = 20 + \"sach\"\n",
    "            print(d)\n",
    "        except TypeError as e :\n",
    "            print(e)\n",
    "            \n",
    "            \n",
    "            try : \n",
    "                with open(\"test.txt \" , \"r\") as f :\n",
    "                    f.read()\n",
    "            except Exception as e :\n",
    "                    print(e)\n",
    "\n",
    "            except FileNotFoundError as e :\n",
    "                print(\"test\" , e)\n",
    "    \n",
    "        \n",
    "        \n",
    "            \n",
    "        \n",
    "            "
   ]
  },
  {
   "cell_type": "raw",
   "id": "b5c8761b-f50b-4ccb-8ef2-67ee5bebc187",
   "metadata": {},
   "source": [
    "Q3.What errors are defined in the ArithmeticError class? Explain any two with an example.\n",
    "A3. error defined in ArithmeticsError class are :\n",
    "        OverFlowError\n",
    "        ZeroDivisionError\n",
    "        FloatingPointError\n",
    "        example :\n",
    "        \n",
    "        example of ZeroDivisionError is\n",
    "            \n",
    "                try :\n",
    "\n",
    "                     a =10/0 \n",
    "\n",
    "                except ZeroDivisionError as e :\n",
    "                    print(e)\n",
    "                    \n",
    "                    \n",
    "                    \n",
    "        example of FloatingPointError is \n",
    "            \n",
    "            try :\n",
    "                int(2.163576)\n",
    "            except FloatingPointError as e :\n",
    "                print(e)\n",
    "                "
   ]
  },
  {
   "cell_type": "raw",
   "id": "a945df4a-e489-4668-8dde-eb8167fe7948",
   "metadata": {},
   "source": [
    "Q4. Why LookupError class is used? Explain with an example KeyError and IndexError.\n",
    "ans 4 . ) The LookupError exception in Python forms the base class for all exceptions that are raised when an index or a key is not found for a sequence or dictionary respectively.\n",
    "\n",
    "        example of index error \n",
    "            x = [1, 2, 3, 4]\n",
    "            try:\n",
    "                print(x[10])\n",
    "            except LookupError as e:\n",
    "                print(f\"{e}, {e.__class__}\")\n",
    "            \n",
    "            example of key error \n",
    "            \n",
    "                pylenin_info = {'name': 'Lenin Mishra',\n",
    "                'age': 28,\n",
    "                'language': 'Python'}\n",
    "                user_input = input('What do you want to learn about Pylenin==> ')\n",
    "\n",
    "                try:\n",
    "                    print(f'{user_input} is {pylenin_info[user_input]}')\n",
    "                except LookupError as e:\n",
    "                    print(f'{e}, {e.__class__}')\n"
   ]
  },
  {
   "cell_type": "raw",
   "id": "764d668b-f538-40ab-9bf1-a653112e4a8e",
   "metadata": {},
   "source": [
    "ans 5. )\n",
    "        Python's ImportError ( ModuleNotFoundError ) indicates that you tried to import a module that Python doesn't find.\n",
    "        "
   ]
  },
  {
   "cell_type": "raw",
   "id": "5371f8f6-0872-452b-9ae9-b2d46df05a08",
   "metadata": {},
   "source": [
    "Q6. List down some best practices for exception handling in python ?\n",
    "\n",
    "ans 6)\n",
    "    \n"
   ]
  }
 ],
 "metadata": {
  "kernelspec": {
   "display_name": "Python 3 (ipykernel)",
   "language": "python",
   "name": "python3"
  },
  "language_info": {
   "codemirror_mode": {
    "name": "ipython",
    "version": 3
   },
   "file_extension": ".py",
   "mimetype": "text/x-python",
   "name": "python",
   "nbconvert_exporter": "python",
   "pygments_lexer": "ipython3",
   "version": "3.10.8"
  }
 },
 "nbformat": 4,
 "nbformat_minor": 5
}
